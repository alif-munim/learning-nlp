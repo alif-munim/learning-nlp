{
 "cells": [
  {
   "cell_type": "markdown",
   "metadata": {},
   "source": [
    "# Categories Customization"
   ]
  },
  {
   "cell_type": "markdown",
   "metadata": {},
   "source": [
    "In this notebook, we will be creating a custom model for Watson Natural Language Understanding (NLU) categories feature using the Train API.\n",
    "\n",
    "We will go through following functionalities:\n",
    "- How to create training data file\n",
    "- How to train a categories model with NLU train API\n",
    "- How to get status of the model\n",
    "- How to use the trained model using NLU Analyze API\n",
    "\n",
    "To start with you will need an NLU instance and an API key."
   ]
  },
  {
   "cell_type": "markdown",
   "metadata": {},
   "source": [
    "\n",
    "## Add your IBM Cloud service credentials here.\n",
    "- If you use IAM service credentials, leave 'username' set to 'apikey'and set 'password' to the value of your IAM API key.\n",
    "- If you use pre-IAM service credentials, set the values to your 'username' and 'password'.\n",
    "\n",
    "Also set 'url' to the URL for your service instance as provided in your service credentials.\n",
    "See the following instructions for getting your own credentials: https://cloud.ibm.com/docs/watson?topic=watson-iam\n"
   ]
  },
  {
   "cell_type": "code",
   "execution_count": 4,
   "metadata": {},
   "outputs": [],
   "source": [
    "username = 'apikey'\n",
    "password = 'gD5CySLxf5X6hqciNpV0CNzWNezu7pgAqWkbwu8i_g24'\n",
    "url = 'https://api.us-south.natural-language-understanding.watson.cloud.ibm.com/instances/6ef7f7fe-0789-477b-a5ba-93912ad319ce'"
   ]
  },
  {
   "cell_type": "markdown",
   "metadata": {},
   "source": [
    "## Create Training Data File\n",
    "\n",
    "Categories training data requires labels and key phrases. Labels corresponds to the name of the classes. These labels can have hierarchy and are provided as a list of labels, where the order in this list represents the hierarchy. \n",
    "\n",
    "Each label can be provided with one or more \"key phrases\". These key phrases are used to train categories models. The key phrases should be unique per label and should represent the label. The key phrases can be more phrases containing more than 1 word, for example \"action movies\". "
   ]
  },
  {
   "cell_type": "code",
   "execution_count": 5,
   "metadata": {},
   "outputs": [],
   "source": [
    "training_data = [\n",
    "    {\n",
    "        \"labels\": [\"Meetings\"],\n",
    "        \"key_phrases\": [\"meetings\", \"meet\", \"talk\", \"discuss\", \"chat\", \"zoom\", \"skype\", \"webex\", \"calendar\", \"time\"]\n",
    "    },\n",
    "    {\n",
    "        \"labels\": [\"Meetings\", \"Initiate\"],\n",
    "        \"key_phrases\": [\"schedule\", \"book\", \"book a time\", \"set up a time\", \"set something up\", \"set up\", \n",
    "                        \"booking\", \"availabile\"]\n",
    "    },\n",
    "    {\n",
    "        \"labels\": [\"Meetings\", \"Amend\"],\n",
    "        \"key_phrases\": [\"amendment\", \"update\", \"change of plans\", \"changes\", \"change\", \"updated availability\", \n",
    "                        \"unexpected\", \"calendar conflict\"]\n",
    "    },\n",
    "    {\n",
    "        \"labels\": [\"Meetings\", \"Amend\", \"Reschedule\"],\n",
    "        \"key_phrases\": [\"reschedule\", \"move\", \"better time\", \"another time\", \"move the meeting\", \"move chat\", \n",
    "                        \"move discussions\", \"another day\"]\n",
    "    },\n",
    "    {\n",
    "        \"labels\": [\"Meetings\", \"Amend\", \"Cancel\"],\n",
    "        \"key_phrases\": [\"cancel\", \"unavailable\", \"no longer free\", \"busy\", \"unable\", \"unable to attend\", \"drop\"]\n",
    "    }\n",
    "]\n",
    "\n",
    "# Save Training data in a file\n",
    "import json\n",
    "\n",
    "training_data_filename = 'training_data.json'\n",
    "\n",
    "with open(training_data_filename, 'w', encoding='utf-8') as f:\n",
    "    json.dump(training_data, f)\n"
   ]
  },
  {
   "cell_type": "markdown",
   "metadata": {},
   "source": [
    "## Train Categories model with NLU"
   ]
  },
  {
   "cell_type": "code",
   "execution_count": 10,
   "metadata": {},
   "outputs": [
    {
     "name": "stdout",
     "output_type": "stream",
     "text": [
      "\n",
      "Creating custom model...\n",
      "Model creation returned:  403\n",
      "Failed to create model\n",
      "{\"code\":403,\"error\":\"number of models exceed allowed limit\"}\n"
     ]
    }
   ],
   "source": [
    "import json\n",
    "import ntpath\n",
    "import requests\n",
    "import sys\n",
    "import time\n",
    "\n",
    "from requests.packages.urllib3.exceptions import InsecureRequestWarning\n",
    "\n",
    "requests.packages.urllib3.disable_warnings(InsecureRequestWarning)\n",
    "\n",
    "\n",
    "######### Create parameters required for making a call to NLU ######### \n",
    "feature_to_train = 'categories'\n",
    "\n",
    "headers = {'Content-Type' : 'multipart/form-data'}\n",
    "\n",
    "data = {\n",
    "    'name':'Categories Custom model #1',\n",
    "    'language':'en',\n",
    "    'version':'1.0.1'\n",
    "}\n",
    "\n",
    "params = {\n",
    "    'version': '2021-03-08'\n",
    "}\n",
    "\n",
    "uri = url + '/v1/models/{}'.format(feature_to_train)\n",
    "\n",
    "\n",
    "print('\\nCreating custom model...')\n",
    "\n",
    "training_data_filename = 'training_data.json'\n",
    "\n",
    "######### Make a call to NLU to train the model ######### \n",
    "with open(training_data_filename, 'rb') as f:\n",
    "    response = requests.post(uri,\n",
    "                         params=params,\n",
    "                         data=data,\n",
    "                         files={'training_data': (ntpath.basename(training_data_filename), f, 'application/json')},\n",
    "                         auth=(username, password),\n",
    "                         verify=False,\n",
    "                        )\n",
    "\n",
    "######### Parse response from NLU ######### \n",
    "    \n",
    "print('Model creation returned: ', response.status_code)\n",
    "\n",
    "if response.status_code != 201:\n",
    "    print('Failed to create model')\n",
    "    print(response.text)\n",
    "else:\n",
    "    print('\\nCustom model training started...')\n",
    "    response_json = response.json()\n",
    "    model_id = response_json['model_id']\n",
    "    print('Custom Model ID: ', model_id)"
   ]
  },
  {
   "cell_type": "markdown",
   "metadata": {},
   "source": [
    "## Retrieve custom categories model by ID"
   ]
  },
  {
   "cell_type": "code",
   "execution_count": 14,
   "metadata": {},
   "outputs": [
    {
     "name": "stdout",
     "output_type": "stream",
     "text": [
      "Get model returned:  200\n",
      "Response from NLU:\n",
      " {\n",
      "    \"created\": \"2021-03-10T05:14:53Z\",\n",
      "    \"description\": null,\n",
      "    \"features\": [\n",
      "        \"categories\"\n",
      "    ],\n",
      "    \"language\": \"en\",\n",
      "    \"last_deployed\": \"2021-03-10T05:18:29Z\",\n",
      "    \"last_trained\": \"2021-03-10T05:14:53Z\",\n",
      "    \"model_id\": \"7fc14083-4c0a-47a0-a589-7fd176c80a3d\",\n",
      "    \"model_version\": \"1.0.1\",\n",
      "    \"name\": \"Categories Custom model #1\",\n",
      "    \"status\": \"available\",\n",
      "    \"user_metadata\": null,\n",
      "    \"version\": \"1.0.1\",\n",
      "    \"version_description\": null,\n",
      "    \"workspace_id\": null\n",
      "}\n"
     ]
    }
   ],
   "source": [
    "import requests\n",
    "\n",
    "params = {\n",
    "    'version': '2021-03-08'\n",
    "}\n",
    "\n",
    "uri = url + '/v1/models/categories/' + model_id\n",
    "\n",
    "######### Make a call to NLU ######### \n",
    "\n",
    "response = requests.get(uri, auth=(username, password), params=params, verify=False, headers=headers)\n",
    "\n",
    "######### Parse response from NLU ######### \n",
    "\n",
    "print('Get model returned: ', response.status_code)\n",
    "\n",
    "response_json = response.json()\n",
    "print(\"Response from NLU:\\n\", json.dumps(response_json, indent=4, sort_keys=True))"
   ]
  },
  {
   "cell_type": "markdown",
   "metadata": {},
   "source": [
    "## Use the model using NLU Analyze API\n",
    "\n",
    "Once the model is trained, the status from the get request above will turn to `available`. Once the model is `available`, you can make the analyze request using the `model_id`"
   ]
  },
  {
   "cell_type": "code",
   "execution_count": 17,
   "metadata": {},
   "outputs": [
    {
     "name": "stdout",
     "output_type": "stream",
     "text": [
      "Successfully analyzed request. Response from NLU:\n",
      "\n",
      "{\n",
      "    \"categories\": [\n",
      "        {\n",
      "            \"label\": \"/Meetings\",\n",
      "            \"score\": 0.976741\n",
      "        },\n",
      "        {\n",
      "            \"label\": \"/Meetings/Initiate\",\n",
      "            \"score\": 0.949461\n",
      "        }\n",
      "    ],\n",
      "    \"language\": \"en\",\n",
      "    \"usage\": {\n",
      "        \"features\": 0,\n",
      "        \"text_characters\": 102,\n",
      "        \"text_units\": 1\n",
      "    }\n",
      "}\n"
     ]
    }
   ],
   "source": [
    "######### Create request #########\n",
    "\n",
    "analyze_request_data = {\n",
    "        \"text\":\"I'd love to discuss this with you over zoom. I'm available tomorrow evening. Let's schedule something!\",\n",
    "        \"language\": \"en\",\n",
    "        \"features\": {\n",
    "            \"categories\": {\n",
    "                \"model\": model_id\n",
    "            }\n",
    "        }\n",
    "}\n",
    "\n",
    "uri = url + '/v1/analyze'\n",
    "\n",
    "params = {\n",
    "    'version': '2021-03-08'\n",
    "}\n",
    "\n",
    "headers = {'Content-Type' : 'application/json'}\n",
    "\n",
    "######### Make a call to NLU #########\n",
    "\n",
    "response = requests.post(uri,\n",
    "                         params=params,\n",
    "                         json=analyze_request_data,\n",
    "                         headers=headers,\n",
    "                         auth=(username, password),\n",
    "                         verify=False,\n",
    "                        )\n",
    "\n",
    "if response.status_code != 200:\n",
    "    print('Failed to make request to model. Reason:')\n",
    "    print(response.text)\n",
    "\n",
    "else:\n",
    "    response_json = response.json()\n",
    "\n",
    "    print(\"Successfully analyzed request. Response from NLU:\\n\")\n",
    "    print(json.dumps(response_json, indent=4, sort_keys=True))"
   ]
  },
  {
   "cell_type": "code",
   "execution_count": null,
   "metadata": {},
   "outputs": [],
   "source": []
  }
 ],
 "metadata": {
  "kernelspec": {
   "display_name": "Python 3",
   "language": "python",
   "name": "python3"
  },
  "language_info": {
   "codemirror_mode": {
    "name": "ipython",
    "version": 3
   },
   "file_extension": ".py",
   "mimetype": "text/x-python",
   "name": "python",
   "nbconvert_exporter": "python",
   "pygments_lexer": "ipython3",
   "version": "3.7.4"
  }
 },
 "nbformat": 4,
 "nbformat_minor": 4
}
